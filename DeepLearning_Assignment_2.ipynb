{
  "nbformat": 4,
  "nbformat_minor": 0,
  "metadata": {
    "colab": {
      "provenance": []
    },
    "kernelspec": {
      "name": "python3",
      "display_name": "Python 3"
    },
    "language_info": {
      "name": "python"
    }
  },
  "cells": [
    {
      "cell_type": "code",
      "execution_count": 1,
      "metadata": {
        "id": "N1fkhGHGvA7R"
      },
      "outputs": [],
      "source": [
        "import numpy as np\n",
        "import tensorflow as tf\n",
        "from tensorflow.keras.datasets import cifar10\n",
        "from tensorflow.keras.applications import VGG16\n",
        "from tensorflow.keras.models import Sequential\n",
        "from tensorflow.keras.layers import Flatten, Dense, Dropout\n",
        "from tensorflow.keras.optimizers import Adam\n",
        "from sklearn.model_selection import train_test_split\n",
        "from sklearn.metrics import accuracy_score, classification_report"
      ]
    },
    {
      "cell_type": "code",
      "source": [
        "(X_train, y_train), (X_test, y_test) = cifar10.load_data()\n",
        "X_train, X_val, y_train, y_val = train_test_split(X_train, y_train, test_size=0.2, random_state=42)"
      ],
      "metadata": {
        "colab": {
          "base_uri": "https://localhost:8080/"
        },
        "id": "bdU7mXjSvI9C",
        "outputId": "5fc6410e-40d7-431e-ce2d-6a3fb4e4b102"
      },
      "execution_count": 2,
      "outputs": [
        {
          "output_type": "stream",
          "name": "stdout",
          "text": [
            "Downloading data from https://www.cs.toronto.edu/~kriz/cifar-10-python.tar.gz\n",
            "170498071/170498071 [==============================] - 2s 0us/step\n"
          ]
        }
      ]
    },
    {
      "cell_type": "code",
      "source": [
        "X_train = X_train.astype('float32') / 255.0\n",
        "X_val = X_val.astype('float32') / 255.0\n",
        "X_test = X_test.astype('float32') / 255.0"
      ],
      "metadata": {
        "id": "kfyXVDF-vMur"
      },
      "execution_count": 3,
      "outputs": []
    },
    {
      "cell_type": "code",
      "source": [
        "base_model = VGG16(weights='imagenet', include_top=False, input_shape=(32, 32, 3))"
      ],
      "metadata": {
        "colab": {
          "base_uri": "https://localhost:8080/"
        },
        "id": "k88VogDjvUbM",
        "outputId": "1c74b902-7590-40fb-b256-3c5e770185e1"
      },
      "execution_count": 4,
      "outputs": [
        {
          "output_type": "stream",
          "name": "stdout",
          "text": [
            "Downloading data from https://storage.googleapis.com/tensorflow/keras-applications/vgg16/vgg16_weights_tf_dim_ordering_tf_kernels_notop.h5\n",
            "58889256/58889256 [==============================] - 0s 0us/step\n"
          ]
        }
      ]
    },
    {
      "cell_type": "code",
      "source": [
        "for layer in base_model.layers:\n",
        "    layer.trainable = False"
      ],
      "metadata": {
        "id": "Bvlm4W7rvXoD"
      },
      "execution_count": 5,
      "outputs": []
    },
    {
      "cell_type": "code",
      "source": [
        "model = Sequential([\n",
        "    base_model,\n",
        "    Flatten(),\n",
        "    Dense(512, activation='relu'),\n",
        "    Dropout(0.5),\n",
        "    Dense(10, activation='softmax')  # Output layer for 10 classes in CIFAR-10\n",
        "])"
      ],
      "metadata": {
        "id": "yYFa1EiAvdAD"
      },
      "execution_count": 6,
      "outputs": []
    },
    {
      "cell_type": "code",
      "source": [
        "model.compile(optimizer=Adam(lr=1e-4), loss='sparse_categorical_crossentropy', metrics=['accuracy'])"
      ],
      "metadata": {
        "colab": {
          "base_uri": "https://localhost:8080/"
        },
        "id": "SudmGaMovidW",
        "outputId": "dc86e5bc-2851-447c-e66d-02b1a7a18367"
      },
      "execution_count": 7,
      "outputs": [
        {
          "output_type": "stream",
          "name": "stderr",
          "text": [
            "WARNING:absl:`lr` is deprecated in Keras optimizer, please use `learning_rate` or use the legacy optimizer, e.g.,tf.keras.optimizers.legacy.Adam.\n"
          ]
        }
      ]
    },
    {
      "cell_type": "code",
      "source": [
        "history = model.fit(\n",
        "    X_train, y_train,\n",
        "    epochs=15,\n",
        "    batch_size=32,\n",
        "    validation_data=(X_val, y_val),\n",
        "    verbose=1\n",
        ")"
      ],
      "metadata": {
        "colab": {
          "base_uri": "https://localhost:8080/"
        },
        "id": "ruoZ1cGkvlhi",
        "outputId": "784d3467-3c33-4bc5-d2bc-15072e8b44d5"
      },
      "execution_count": 8,
      "outputs": [
        {
          "output_type": "stream",
          "name": "stdout",
          "text": [
            "Epoch 1/10\n",
            "1250/1250 [==============================] - 381s 304ms/step - loss: 1.4696 - accuracy: 0.4843 - val_loss: 1.2606 - val_accuracy: 0.5588\n",
            "Epoch 2/10\n",
            "1250/1250 [==============================] - 380s 304ms/step - loss: 1.2852 - accuracy: 0.5494 - val_loss: 1.1864 - val_accuracy: 0.5811\n",
            "Epoch 3/10\n",
            "1250/1250 [==============================] - 378s 303ms/step - loss: 1.2258 - accuracy: 0.5674 - val_loss: 1.1650 - val_accuracy: 0.5923\n",
            "Epoch 4/10\n",
            "1250/1250 [==============================] - 379s 303ms/step - loss: 1.1913 - accuracy: 0.5794 - val_loss: 1.1394 - val_accuracy: 0.5979\n",
            "Epoch 5/10\n",
            "1250/1250 [==============================] - 378s 303ms/step - loss: 1.1591 - accuracy: 0.5934 - val_loss: 1.1356 - val_accuracy: 0.6065\n",
            "Epoch 6/10\n",
            "1250/1250 [==============================] - 379s 303ms/step - loss: 1.1327 - accuracy: 0.6036 - val_loss: 1.1221 - val_accuracy: 0.6044\n",
            "Epoch 7/10\n",
            "1250/1250 [==============================] - 377s 302ms/step - loss: 1.1142 - accuracy: 0.6080 - val_loss: 1.1390 - val_accuracy: 0.6012\n",
            "Epoch 8/10\n",
            "1250/1250 [==============================] - 378s 302ms/step - loss: 1.0950 - accuracy: 0.6163 - val_loss: 1.1015 - val_accuracy: 0.6120\n",
            "Epoch 9/10\n",
            "1250/1250 [==============================] - 377s 302ms/step - loss: 1.0756 - accuracy: 0.6200 - val_loss: 1.1025 - val_accuracy: 0.6135\n",
            "Epoch 10/10\n",
            "1250/1250 [==============================] - 377s 302ms/step - loss: 1.0574 - accuracy: 0.6256 - val_loss: 1.0906 - val_accuracy: 0.6228\n"
          ]
        }
      ]
    },
    {
      "cell_type": "code",
      "source": [],
      "metadata": {
        "id": "QHvv6dbjvrHI"
      },
      "execution_count": null,
      "outputs": []
    }
  ]
}